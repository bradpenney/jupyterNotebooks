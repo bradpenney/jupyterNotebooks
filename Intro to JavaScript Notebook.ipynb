{
 "cells": [
  {
   "cell_type": "code",
   "execution_count": 5,
   "metadata": {},
   "outputs": [
    {
     "data": {
      "text/plain": [
       "'Brad Penney'"
      ]
     },
     "execution_count": 5,
     "metadata": {},
     "output_type": "execute_result"
    }
   ],
   "source": [
    "var name = 'Brad';\n",
    "var last = \"Penney\";\n",
    "\n",
    "name + ' ' + last;"
   ]
  }
 ],
 "metadata": {
  "kernelspec": {
   "display_name": "Javascript (Node.js)",
   "language": "javascript",
   "name": "javascript"
  },
  "language_info": {
   "file_extension": ".js",
   "mimetype": "application/javascript",
   "name": "javascript",
   "version": "4.7.2"
  }
 },
 "nbformat": 4,
 "nbformat_minor": 2
}
