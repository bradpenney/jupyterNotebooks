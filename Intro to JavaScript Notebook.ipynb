{
 "cells": [
  {
   "cell_type": "markdown",
   "metadata": {},
   "source": [
    "<h1>Introduction to JavaScript</h1>\n",
    "<h2><small>A Beginner Guide from <a href=\"http://www.devopsnoob.com\" target=\"_blank\">www.DevOpsNoob.com</a></small></h2>\n",
    "<p>\n",
    "JavaScript started as a client-side scripting language to add some visual flair to websites.  Its come a long way!  Currently, JavaScript is used for serious programming on the client-side,  the server-side, and has even been used to create desktop applications.  JavaScript is often described as the most popular programming language in the world.\n",
    "</p>"
   ]
  },
  {
   "cell_type": "code",
   "execution_count": 1,
   "metadata": {},
   "outputs": [
    {
     "data": {
      "text/plain": [
       "'Brad Penney'"
      ]
     },
     "execution_count": 1,
     "metadata": {},
     "output_type": "execute_result"
    }
   ],
   "source": [
    "var name = 'Brad';\n",
    "var last = \"Penney\";\n",
    "\n",
    "name + ' ' + last;"
   ]
  }
 ],
 "metadata": {
  "kernelspec": {
   "display_name": "Javascript (Node.js)",
   "language": "javascript",
   "name": "javascript"
  },
  "language_info": {
   "file_extension": ".js",
   "mimetype": "application/javascript",
   "name": "javascript",
   "version": "4.7.2"
  }
 },
 "nbformat": 4,
 "nbformat_minor": 2
}
