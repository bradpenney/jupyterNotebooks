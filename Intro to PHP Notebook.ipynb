{
 "cells": [
  {
   "cell_type": "markdown",
   "metadata": {},
   "source": [
    "<h1>Introduction to PHP</h1>\n",
    "<h2><small>A Beginner Guide from <a href=\"http://www.devopsnoob.com\" target=\"_blank\">www.DevOpsNoob.com</a></small></h2>\n",
    "\n",
    "<p>\n",
    "    In this notebook, I'll introduce the basic concepts of PHP.  PHP is a server-side web programming language that allows users to create dynamic websites which respond to user input.\n",
    "</p>"
   ]
  },
  {
   "cell_type": "markdown",
   "metadata": {},
   "source": [
    "<h2>Installing PHP</h2>\n",
    "<p>\n",
    "The very first hurdle most new developers face when learning PHP is that it must be rendered on a webserver, which usually translates into making their local computer into a webserver.  Fortuantely, this is a fairly easy thing to do, irregardless of which operating system you use.\n",
    "</p>\n",
    "<p>\n",
    "One of the simplest solutions is <a href=\"https://www.apachefriends.org/download.html\" target=\"_blank\">XAMPP Server</a>, which is a cross-platform piece of software that installs Apache, MariaDB, PHP and Perl.  The XAMPP website, provided by Apache Friends, has extensive documentation that instructs users in installing and configuring the XAMPP server, irregardless of operating system. \n",
    "</p>"
   ]
  },
  {
   "cell_type": "markdown",
   "metadata": {},
   "source": [
    "<h2>Hello World!</h2>\n",
    "<p>With every new programming language you start to learn, it is mandatory that you begin with a \"Hello World\" statement.  Here's \"Hello World\" in PHP:"
   ]
  },
  {
   "cell_type": "code",
   "execution_count": 2,
   "metadata": {},
   "outputs": [
    {
     "data": {
      "text/plain": [
       "Hello World\n"
      ]
     },
     "execution_count": 2,
     "metadata": {},
     "output_type": "execute_result"
    }
   ],
   "source": [
    "echo \"Hello World\";"
   ]
  },
  {
   "cell_type": "markdown",
   "metadata": {},
   "source": [
    "<h2>Inserting PHP into a Webpage</h2>\n",
    "<p>\n",
    "In order to create a webpage that utilizes PHP, it must be saved as the filetype .php.  For example, myFile.php.  And similar to HTML, PHP blocks must be enclosed within special PHP brackets, which look like this:\n",
    "</p>\n",
    "\n",
    "<code><pre>\n",
    "    <? php \n",
    "        echo \"Hello World\";\n",
    "    ? >\n",
    "</pre></code>\n",
    "\n",
    "<p>\n",
    "Notice that for the rest of this notebook, PHP code will lack its opening and closing tags used in HTML.  This is because they aren't necessary in this context.  Just remember, in order for any examples in this notebook to work within a website, they must be enclosed within opening and closing PHP brackets as above.\n",
    "</p>"
   ]
  },
  {
   "cell_type": "markdown",
   "metadata": {},
   "source": [
    "<h2>Why Use PHP?</h2>\n",
    "<p>\n",
    "PHP is useful in creating websites because unlike HTML5 &amp; CSS, it is a full-on programming language that can be used to make decisions and interact with input from the user.  It has normal programming logic, such as if statements, for loops, switch statements, etc.  Further, PHP can interact with a database such as MySQL or MariaDB, thereby making it even more powerful.\n",
    "</p>"
   ]
  },
  {
   "cell_type": "code",
   "execution_count": 1,
   "metadata": {},
   "outputs": [
    {
     "data": {
      "text/plain": [
       "Brad Penney\n"
      ]
     },
     "execution_count": 1,
     "metadata": {},
     "output_type": "execute_result"
    }
   ],
   "source": [
    "$fname = 'Brad';\n",
    "$lname = 'Penney';\n",
    "echo $fname . ' ' . $lname;"
   ]
  }
 ],
 "metadata": {
  "kernelspec": {
   "display_name": "PHP",
   "language": "php",
   "name": "jupyter-php"
  },
  "language_info": {
   "file_extension": ".php",
   "mimetype": "text/x-php",
   "name": "PHP",
   "pygments_lexer": "PHP",
   "version": "7.0.18-0ubuntu0.17.04.1"
  }
 },
 "nbformat": 4,
 "nbformat_minor": 2
}
