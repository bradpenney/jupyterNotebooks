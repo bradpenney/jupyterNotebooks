{
 "cells": [
  {
   "cell_type": "markdown",
   "metadata": {},
   "source": [
    "<h1>Introduction to JavaScript</h1>\n",
    "<h2><small>A Beginner Guide from <a href=\"http://www.devopsnoob.com\" target=\"_blank\">www.DevOpsNoob.com</a></small></h2>\n",
    "<p>\n",
    "JavaScript started as a client-side scripting language to add some visual flair to websites.  Its come a long way!  Currently, JavaScript is used for serious programming on the client-side,  the server-side, and has even been used to create desktop applications.  JavaScript is often described as the most popular programming language in the world.\n",
    "</p>"
   ]
  },
  {
   "cell_type": "markdown",
   "metadata": {},
   "source": [
    "<h2>JavaScript Client-Side Coding</h2>\n",
    "<p>JavaScript was originally designed as a client-side scripting language.  It can do tons of things within a web browser, and has tons of built-in functionality.  One of the most basic is the <code>Date()</code> function, which will return then current date that the computer is set to.  Its illustrated below:"
   ]
  },
  {
   "cell_type": "code",
   "execution_count": 1,
   "metadata": {},
   "outputs": [
    {
     "data": {
      "text/plain": [
       "'Sat Aug 12 2017 21:57:47 GMT-0300 (ADT)'"
      ]
     },
     "execution_count": 1,
     "metadata": {},
     "output_type": "execute_result"
    }
   ],
   "source": [
    "Date();"
   ]
  },
  {
   "cell_type": "markdown",
   "metadata": {},
   "source": [
    "<h2>JavaScript Variables</h2>\n",
    "<p>\n",
    "    JavaScript uses the keyword <code>var</code> to create variables.  JavaScript is a weakly-typed (sometimes referred to as <i>dynamically-typed</i>) language, meaning it isn't necessary to assign a variable type (<code>number, string, bool</code>) to each variable.  Here's an example of some variable assignments and then printing them out together:"
   ]
  },
  {
   "cell_type": "code",
   "execution_count": 2,
   "metadata": {},
   "outputs": [
    {
     "data": {
      "text/plain": [
       "'John Doe'"
      ]
     },
     "execution_count": 2,
     "metadata": {},
     "output_type": "execute_result"
    }
   ],
   "source": [
    "var fname = 'John';\n",
    "var lname = \"Doe\";\n",
    "\n",
    "fname + ' ' + lname;"
   ]
  },
  {
   "cell_type": "markdown",
   "metadata": {},
   "source": [
    "<h2>Concatenating Strings</h2>\n",
    "<p>\n",
    "    In the example above, the two variables created were of the type <code>string</code>.  This means when the user would like to return them, they need to be concatenated (essentially added together).  This is done in JavaScript by simply using plus symbols (<code>+</code>) and surrounding anything else to be included in the statement with single quotes (<code>' '</code>, in which a single space is between the single quotes)."
   ]
  },
  {
   "cell_type": "markdown",
   "metadata": {},
   "source": [
    "<h2>JavaScript Variable Types</h2>\n",
    "<p>\n",
    "    While JavaScript is weakly or dynamically typed, it still only has six standard types of primitive variables.  These include <code>boolean, null, undefined, number, string</code>, and new to ECMAScript 6 (newest version of JavaScript), <code>symbol</code>. \n",
    "</p>"
   ]
  },
  {
   "cell_type": "markdown",
   "metadata": {},
   "source": [
    "<h2>JavaScript is Dynamically-Typed</h2>\n",
    "<p>\n",
    "    The example below demonstrates how JavaScript changes its variable type depending on what each variable contains.\n",
    "</p>"
   ]
  },
  {
   "cell_type": "code",
   "execution_count": null,
   "metadata": {
    "collapsed": true
   },
   "outputs": [],
   "source": [
    "var foo = 42;    // foo is now a Number\n",
    "var foo = 'bar'; // foo is now a String\n",
    "var foo = true;  // foo is now a Boolean"
   ]
  }
 ],
 "metadata": {
  "kernelspec": {
   "display_name": "Javascript (Node.js)",
   "language": "javascript",
   "name": "javascript"
  },
  "language_info": {
   "file_extension": ".js",
   "mimetype": "application/javascript",
   "name": "javascript",
   "version": "4.7.2"
  }
 },
 "nbformat": 4,
 "nbformat_minor": 2
}
